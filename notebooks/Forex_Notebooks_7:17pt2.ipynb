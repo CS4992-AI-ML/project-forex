{
 "cells": [
  {
   "cell_type": "code",
   "execution_count": 1,
   "metadata": {},
   "outputs": [],
   "source": [
    "#Read Data\n",
    "import os, types\n",
    "import pandas as pd\n",
    "from botocore.client import Config\n",
    "import ibm_boto3\n",
    "\n",
    "def __iter__(self): return 0\n",
    "cos_client = ibm_boto3.client(service_name='s3',\n",
    "    ibm_api_key_id='vYdLFvS7OIFtrvWEDBnshv8-8wT-1U2HCqOLpQTFwYFK',\n",
    "    ibm_auth_endpoint=\"https://iam.cloud.ibm.com/oidc/token\",\n",
    "    config=Config(signature_version='oauth'),\n",
    "    endpoint_url='https://s3.private.jp-tok.cloud-object-storage.appdomain.cloud')\n",
    "\n",
    "#daily report\n",
    "bucket = 'forex-donotdelete-pr-z4qvpns5xgagyh'\n",
    "object_key = 'daily_report.csv'\n",
    "body = cos_client.get_object(Bucket=bucket,Key=object_key)['Body']\n",
    "if not hasattr(body, \"__iter__\"): body.__iter__ = types.MethodType( __iter__, body )\n",
    "df_1 = pd.read_csv(body)\n",
    "\n",
    "#trades\n",
    "object_key = 'trades.csv'\n",
    "body = cos_client.get_object(Bucket=bucket,Key=object_key)['Body']\n",
    "if not hasattr(body, \"__iter__\"): body.__iter__ = types.MethodType( __iter__, body )\n",
    "df_2 = pd.read_csv(body)\n",
    "\n",
    "#login\n",
    "object_key = 'login.csv'\n",
    "body = cos_client.get_object(Bucket=bucket,Key=object_key)['Body']\n",
    "if not hasattr(body, \"__iter__\"): body.__iter__ = types.MethodType( __iter__, body )\n",
    "df_3 = pd.read_csv(body)"
   ]
  },
  {
   "cell_type": "code",
   "execution_count": 2,
   "metadata": {},
   "outputs": [],
   "source": [
    "#Clean Data\n",
    "df_2['open_time'] = pd.to_datetime(df_2['open_time'], unit='s')\n",
    "df_2['open_time'] = df_2['open_time'].dt.tz_localize('UTC')\n",
    "df_2['open_time'] = df_2['open_time'].dt.tz_localize(None)\n",
    "df_2['close_time'] = pd.to_datetime(df_2['close_time'], unit='s')\n",
    "df_2['close_time'] = df_2['close_time'].dt.tz_localize('UTC')\n",
    "df_2['close_time'] = df_2['close_time'].dt.tz_localize(None)\n",
    "df_2 = pd.merge(df_2, df_3[['login', 'account_currency']], on='login', how='left')"
   ]
  },
  {
   "cell_type": "code",
   "execution_count": 3,
   "metadata": {},
   "outputs": [],
   "source": [
    "#Create Junction Table for changing profit to USD\n",
    "currency_abreviation = df_2['account_currency'].tolist()\n",
    "curr_to_US = [\"AUD\", \"EUR\", \"GBP\", \"NZD\"]\n",
    "curr_from_US = [\"CAD\", \"CHF\", \"CNH\", \"HKD\", \"HUF\", \"JPY\", \"MXN\", \"NLK\", \"PLN\", \"SEK\", \"SGD\", \"THB\", \"TRY\", \"ZAR\"]\n",
    "curr_US = [\"USD\"]\n",
    "curr_reader = []\n",
    "\n",
    "for i in range(len(currency_abreviation)):\n",
    "    for j in range(len(curr_to_US)):\n",
    "        if currency_abreviation[i] == curr_to_US[j]:\n",
    "            curr_csv = str(curr_to_US[j] + \"USD.csv\")\n",
    "            curr_reader.append(curr_csv)\n",
    "    for x in range(len(curr_from_US)):\n",
    "        if currency_abreviation[i] == curr_from_US[x]:\n",
    "            curr_csv = str(\"USD.csv\" + curr_from_US[x])\n",
    "            curr_reader.append(curr_csv)\n",
    "    for y in range(len(curr_US)):\n",
    "        if currency_abreviation[i] == curr_US[y]:\n",
    "            curr_csv = str(\"USDUSD\")\n",
    "            curr_reader.append(curr_csv)\n",
    "\n",
    "close_dates = df_2['close_time'].apply(lambda x: x.strftime('%Y.%m.%d')).tolist()\n",
    "ticket_exch = df_2['ticket'].tolist()\n",
    "profit_changer = list(zip(ticket_exch, curr_reader, close_dates))"
   ]
  }
 ],
 "metadata": {
  "kernelspec": {
   "display_name": "Python 3.10",
   "language": "python",
   "name": "python3"
  },
  "language_info": {
   "codemirror_mode": {
    "name": "ipython",
    "version": 3
   },
   "file_extension": ".py",
   "mimetype": "text/x-python",
   "name": "python",
   "nbconvert_exporter": "python",
   "pygments_lexer": "ipython3",
   "version": "3.10.14"
  }
 },
 "nbformat": 4,
 "nbformat_minor": 1
}
